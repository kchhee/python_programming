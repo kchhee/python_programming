{
 "cells": [
  {
   "cell_type": "markdown",
   "id": "58237a6e-3cc1-4bc6-9d2d-353160d0668c",
   "metadata": {},
   "source": [
    "# 이렇게 설명을 쓸 수 있는 노트북!"
   ]
  },
  {
   "cell_type": "code",
   "execution_count": 2,
   "id": "a3d19310-934a-4362-bfe9-d3d2dd7fd047",
   "metadata": {},
   "outputs": [
    {
     "name": "stdout",
     "output_type": "stream",
     "text": [
      "hello world\n"
     ]
    }
   ],
   "source": [
    "print('hello world')"
   ]
  },
  {
   "cell_type": "code",
   "execution_count": null,
   "id": "2bbca953-cc45-40df-825d-5a99854982bb",
   "metadata": {},
   "outputs": [],
   "source": []
  },
  {
   "cell_type": "code",
   "execution_count": null,
   "id": "3afe451d-14d4-4247-83eb-09278308550f",
   "metadata": {},
   "outputs": [],
   "source": []
  },
  {
   "cell_type": "code",
   "execution_count": null,
   "id": "012469a1-b941-472e-b1f9-95c80bf6e737",
   "metadata": {},
   "outputs": [],
   "source": []
  },
  {
   "cell_type": "code",
   "execution_count": null,
   "id": "0fa9e9b6-5313-4c83-a80c-3e88df1f9d75",
   "metadata": {},
   "outputs": [],
   "source": []
  }
 ],
 "metadata": {
  "kernelspec": {
   "display_name": "Python 3 (ipykernel)",
   "language": "python",
   "name": "python3"
  },
  "language_info": {
   "codemirror_mode": {
    "name": "ipython",
    "version": 3
   },
   "file_extension": ".py",
   "mimetype": "text/x-python",
   "name": "python",
   "nbconvert_exporter": "python",
   "pygments_lexer": "ipython3",
   "version": "3.8.12"
  }
 },
 "nbformat": 4,
 "nbformat_minor": 5
}
